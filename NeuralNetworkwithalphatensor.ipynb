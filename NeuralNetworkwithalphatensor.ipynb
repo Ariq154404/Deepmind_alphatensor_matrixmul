{
  "nbformat": 4,
  "nbformat_minor": 0,
  "metadata": {
    "colab": {
      "provenance": [],
      "collapsed_sections": []
    },
    "kernelspec": {
      "name": "python3",
      "display_name": "Python 3"
    },
    "language_info": {
      "name": "python"
    }
  },
  "cells": [
    {
      "cell_type": "code",
      "source": [
        "import numpy as np"
      ],
      "metadata": {
        "id": "5wZMaPRdflxD"
      },
      "execution_count": 1,
      "outputs": []
    },
    {
      "cell_type": "code",
      "source": [
        "\n",
        "def matmul(A,B):\n",
        "  result=[[0 for i in range(B.shape[1])] for j in range(A.shape[0])]\n",
        "  for i in range(len(A)):\n",
        "    for j in range(len(B[0])):\n",
        "        for k in range(len(B)):\n",
        "          result[i][j] += A[i][k] * B[k][j]\n",
        "  return np.array(result)\n",
        "\n",
        "  \n"
      ],
      "metadata": {
        "id": "6-DrEegy38pr"
      },
      "execution_count": 2,
      "outputs": []
    },
    {
      "cell_type": "code",
      "source": [
        "class mult:\n",
        "  def __init__(self):\n",
        "    filename = \"/content/factorizations_r.npz\"\n",
        "    with open(filename, 'rb') as f:\n",
        "      self.factorizations = dict(np.load(f, allow_pickle=True))\n",
        "  def check(self,tup):\n",
        "    far=None\n",
        "    for v in self.factorizations:\n",
        "      ar=list(map(int,v.split(\",\")))\n",
        "      if tup[0]%ar[0]==0 and tup[1]%ar[1]==0 and tup[2]%ar[2]==0 and tup[0]//ar[0]==tup[1]//ar[1] and tup[0]//ar[0]==tup[2]//ar[2]:\n",
        "        far=ar\n",
        "    if far!=None:\n",
        "      return True,far\n",
        "    return False,None\n",
        "  def comb(self,a):\n",
        "    res=[]\n",
        "    for i in range(a.shape[0]):\n",
        "      ar=np.array(a[i][0])\n",
        "      for j in range(1,a.shape[1]):\n",
        "        ar=np.concatenate((ar,a[i][j]),axis=1)\n",
        "      res.append(ar)\n",
        "    nar=res[0]\n",
        "    for i in range(1,len(res)):\n",
        "      nar=np.concatenate((nar,res[i]),axis=0)\n",
        "    return nar\n",
        "  def crop(self,a,n):\n",
        "    # print(\"cs\",a.shape,\"n\",n)\n",
        "    i=0\n",
        "    j=0\n",
        "    res=[[None for k in range(a.shape[1]//n)] for g in range(a.shape[0]//n)]\n",
        "    x=0\n",
        "    y=0\n",
        "  # print(len(res),len(res[0]))\n",
        "  #print(x,y,res[0][0],a.shape)\n",
        "    while(i<a.shape[0]):\n",
        "    # print(i,j,x,y)\n",
        "       while(j<a.shape[1]):\n",
        "         res[x][y]=a[i:i+n,j:j+n]\n",
        "         j+=n\n",
        "         y+=1\n",
        "       x+=1\n",
        "       i+=n\n",
        "       j=0\n",
        "       y=0\n",
        "    \n",
        "    return np.array(res)    \n",
        "  def aft(self,a,b,seq,f) :\n",
        "    \"Code to multiply matrix based on factors\"\n",
        "    # print(\"aftseq\",seq,a.shape,b.shape)\n",
        "    n=a.shape[0]//seq[0]\n",
        "    val=str(seq[0])+\",\"+str(seq[1])+\",\"+str(seq[2])\n",
        "    factors=self.factorizations[val]\n",
        "    factors = [factors[0], factors[1], factors[2]]\n",
        "    rank = factors[0].shape[-1]\n",
        "    factors[2] = np.reshape(factors[2],(seq[2], seq[0], rank))\n",
        "    factors[2] = factors[2].transpose(1, 0, 2).reshape(seq[2]*seq[0],rank)\n",
        "    a=self.crop(a,n)\n",
        "    b=self.crop(b,n)\n",
        "    \n",
        "    a=np.reshape(a,(a.shape[0]*a.shape[1],n,n))\n",
        "    b=np.reshape(b,(b.shape[0]*b.shape[1],n,n))\n",
        "\n",
        "    # st=time.time()\n",
        "    left=np.einsum('iR,i...->R...', factors[0], a)\n",
        "    right=np.einsum('iR,i...->R...', factors[1], b)\n",
        "    mp=np.einsum('R...,R...->R...', left, right)\n",
        "    mp=np.array([f(left[i],right[i] )for i in range(len(left))])\n",
        "    res=np.einsum('iR,R...->i...', factors[2], mp)\n",
        "    # en=time.time()\n",
        "    res=np.reshape(res,(seq[0],seq[2],n,n))\n",
        "    # print(en-st)\n",
        "    # print(res.shape)\n",
        "    return self.comb(res)\n",
        "    \n",
        "    \n",
        "  \n",
        "  "
      ],
      "metadata": {
        "id": "krSjSCYP3wVi"
      },
      "execution_count": 3,
      "outputs": []
    },
    {
      "cell_type": "code",
      "execution_count": 4,
      "metadata": {
        "id": "yfps23hR_JqU"
      },
      "outputs": [],
      "source": [
        "# Base class\n",
        "class Layer:\n",
        "    def __init__(self):\n",
        "        self.input = None\n",
        "        self.output = None\n",
        "        self.want=None\n",
        "\n",
        "    # computes the output Y of a layer for a given input X\n",
        "    def forward_propagation(self, input):\n",
        "        raise NotImplementedError\n",
        "\n",
        "    # computes dE/dX for a given dE/dY (and update parameters if any)\n",
        "    def backward_propagation(self, output_error, learning_rate):\n",
        "        raise NotImplementedError"
      ]
    },
    {
      "cell_type": "code",
      "source": [
        "mul=mult()"
      ],
      "metadata": {
        "id": "5CxEBgGtZpms"
      },
      "execution_count": 5,
      "outputs": []
    },
    {
      "cell_type": "code",
      "source": [
        "# from layer import Layer\n",
        "import numpy as np\n",
        "\n",
        "# inherit from base class Layer\n",
        "class FCLayer(Layer):\n",
        "    # input_size = number of input neurons\n",
        "    # output_size = number of output neurons\n",
        "    def __init__(self, m,input_size,output_size,mult,func,want,seed=42):\n",
        "        np.random.seed(seed)\n",
        "        self.weights = np.random.rand(input_size, output_size) - 0.5\n",
        "        self.bias = np.random.rand(m, output_size) - 0.5\n",
        "        self.mul=mult\n",
        "        self.want=want\n",
        "        self.f=func\n",
        "    # returns output for a given input\n",
        "    def forward_propagation(self, input_data):\n",
        "        self.input = input_data\n",
        "        val,seq=self.mul.check([self.input.shape[0],self.input.shape[1],self.weights.shape[1]])\n",
        "        # print(\"fp\",seq)\n",
        "        # print(\"val\",val,self.want)\n",
        "        if self.want and val:\n",
        "          self.output = self.mul.aft(self.input, self.weights,seq,self.f) + self.bias\n",
        "        else:\n",
        "          self.output = self.f(self.input, self.weights) + self.bias\n",
        "        # print(\"id\",input_data.shape,\"ws\",self.weights.shape,\"bs\",self.bias.shape)\n",
        "        return self.output\n",
        "\n",
        "    # computes dE/dW, dE/dB for a given output_error=dE/dY. Returns input_error=dE/dX.\n",
        "    def backward_propagation(self, output_error, learning_rate):\n",
        "        val,seq=self.mul.check([output_error.shape[0],output_error.shape[1],self.weights.shape[0]])\n",
        "        # print(\"bp\",seq)\n",
        "        # print(\"val\",val,\"want\",self.want)\n",
        "        if self.want and val:\n",
        "          input_error = self.mul.aft(output_error, self.weights.T,seq,self.f)\n",
        "        else:\n",
        "          input_error = self.f(output_error, self.weights.T)\n",
        "        val,seq=self.mul.check([self.input.shape[1],self.input.shape[0],output_error.shape[1]])\n",
        "        if self.want and val:\n",
        "          weights_error = self.mul.aft(self.input.T, output_error,seq,self.f)\n",
        "        else:\n",
        "          weights_error = self.f(self.input.T, output_error)\n",
        "        # dBias = output_error\n",
        "\n",
        "        # update parameters\n",
        "        # print(\"weshape\",weights_error.shape,\"outerror\",output_error.shape,\"ieshape\",input_error.shape)\n",
        "    \n",
        "        self.weights -= learning_rate * weights_error\n",
        "        self.bias -= learning_rate * output_error\n",
        "\n",
        "        return input_error"
      ],
      "metadata": {
        "id": "fOh0GGbQEeJY"
      },
      "execution_count": 6,
      "outputs": []
    },
    {
      "cell_type": "code",
      "source": [
        "# from layer import Layer\n",
        "\n",
        "# inherit from base class Layer\n",
        "class ActivationLayer(Layer):\n",
        "    def __init__(self, activation, activation_prime):\n",
        "        self.activation = activation\n",
        "        self.activation_prime = activation_prime\n",
        "\n",
        "    # returns the activated input\n",
        "    def forward_propagation(self, input_data):\n",
        "        self.input = input_data\n",
        "        self.output = self.activation(self.input)\n",
        "        return self.output\n",
        "\n",
        "    # Returns input_error=dE/dX for a given output_error=dE/dY.\n",
        "    # learning_rate is not used because there is no \"learnable\" parameters.\n",
        "    def backward_propagation(self, output_error, learning_rate):\n",
        "        val=self.activation_prime(self.input) * output_error\n",
        "        # print(\"as\",val.shape,self.activation_prime(self.input).shape,output_error.shape)\n",
        "        return val"
      ],
      "metadata": {
        "id": "oA3_S0fiEeKT"
      },
      "execution_count": 7,
      "outputs": []
    },
    {
      "cell_type": "code",
      "source": [
        "\n",
        "import numpy as np\n",
        "\n",
        "# activation function and its derivative\n",
        "def tanh(x):\n",
        "    return np.tanh(x);\n",
        "\n",
        "def tanh_prime(x):\n",
        "    return 1-np.tanh(x)**2;"
      ],
      "metadata": {
        "id": "VG-T_o4ZFz9G"
      },
      "execution_count": 8,
      "outputs": []
    },
    {
      "cell_type": "code",
      "source": [
        "def mse(y_true, y_pred):\n",
        "    return np.mean(np.power(y_true-y_pred, 2));\n",
        "\n",
        "def mse_prime(y_true, y_pred):\n",
        "    return 2*(y_pred-y_true)/y_true.size"
      ],
      "metadata": {
        "id": "J8WXIEtTF2sx"
      },
      "execution_count": 9,
      "outputs": []
    },
    {
      "cell_type": "code",
      "source": [
        "class Network:\n",
        "    def __init__(self):\n",
        "        self.layers = []\n",
        "        self.loss = None\n",
        "        self.loss_prime = None\n",
        "     \n",
        "    # add layer to network\n",
        "    def add(self, layer):\n",
        "        self.layers.append(layer)\n",
        "\n",
        "    # set loss to use\n",
        "    def use(self, loss, loss_prime):\n",
        "        self.loss = loss\n",
        "        self.loss_prime = loss_prime\n",
        "\n",
        "    # predict output for given input\n",
        "    def predict(self, input_data):\n",
        "        # sample dimension first\n",
        "        samples = len(input_data)\n",
        "        result = []\n",
        "\n",
        "        # run network over all samples\n",
        "        for i in range(samples):\n",
        "            # forward propagation\n",
        "            output = input_data[i]\n",
        "            for layer in self.layers:\n",
        "                output = layer.forward_propagation(output)\n",
        "            result.append(output)\n",
        "\n",
        "        return result\n",
        "\n",
        "    # train the network\n",
        "    def fit(self, x_train, y_train, epochs, learning_rate):\n",
        "        # sample dimension first\n",
        "        samples = len(x_train)\n",
        "        \n",
        "        # training loop\n",
        "        for i in range(epochs):\n",
        "            err = 0\n",
        "            for j in range(samples):\n",
        "                # forward propagation\n",
        "                output = x_train[j]\n",
        "                for layer in self.layers:\n",
        "                    output = layer.forward_propagation(output)\n",
        "\n",
        "                # compute loss (for display purpose only)\n",
        "                err += self.loss(y_train[j], output)\n",
        "                # print(\"er\",err,y_train[j],output)\n",
        "                # backward propagation\n",
        "                error = self.loss_prime(y_train[j], output)\n",
        "                for layer in reversed(self.layers):\n",
        "                    error = layer.backward_propagation(error, learning_rate)\n",
        "\n",
        "            # calculate average error on all samples\n",
        "            err /= samples\n",
        "            print('epoch %d/%d   error=%f' % (i+1, epochs, err))"
      ],
      "metadata": {
        "id": "ysdGwVdwIztq"
      },
      "execution_count": 10,
      "outputs": []
    },
    {
      "cell_type": "code",
      "source": [
        "n=13*4\n",
        "ld=2"
      ],
      "metadata": {
        "id": "iNS02TQUSdJe"
      },
      "execution_count": 11,
      "outputs": []
    },
    {
      "cell_type": "code",
      "source": [
        "from keras.datasets import mnist\n",
        "from keras.utils import np_utils\n",
        "(x_train, y_train), (x_test, y_test) = mnist.load_data()\n",
        "\n",
        "# training data : 60000 samples\n",
        "# reshape and normalize input data\n",
        "\n",
        "x_train=x_train[:ld*n]\n",
        "y_train=y_train[:ld*n]\n",
        "x_train = x_train.reshape(ld, n, 28*28)\n",
        "x_train = x_train.astype('float32')\n",
        "x_train /= 255\n",
        "# encode output which is a number in range [0,9] into a vector of size 10\n",
        "# e.g. number 3 will become [0, 0, 0, 1, 0, 0, 0, 0, 0, 0]\n",
        "\n",
        "y_train = np_utils.to_categorical(y_train)\n",
        "y_train=y_train.reshape(ld,n,10)\n",
        "\n",
        "x_test=x_test[:(ld)*n]\n",
        "y_test=y_test[:(ld)*n]\n",
        "x_test = x_test.reshape(ld, n, 28*28)\n",
        "x_test = x_test.astype('float32')\n",
        "x_test /= 255\n",
        "# encode output which is a number in range [0,9] into a vector of size 10\n",
        "# e.g. number 3 will become [0, 0, 0, 1, 0, 0, 0, 0, 0, 0]\n",
        "y_test = np_utils.to_categorical(y_test)\n",
        "y_test=y_test.reshape(ld,n,10)"
      ],
      "metadata": {
        "id": "RSkf_lW0lfaN"
      },
      "execution_count": 12,
      "outputs": []
    },
    {
      "cell_type": "code",
      "source": [
        "y_train.shape"
      ],
      "metadata": {
        "colab": {
          "base_uri": "https://localhost:8080/"
        },
        "id": "-91G-v9B3Y9K",
        "outputId": "b0cf17f2-cfee-4989-9133-da5d213177d3"
      },
      "execution_count": 13,
      "outputs": [
        {
          "output_type": "execute_result",
          "data": {
            "text/plain": [
              "(2, 52, 10)"
            ]
          },
          "metadata": {},
          "execution_count": 13
        }
      ]
    },
    {
      "cell_type": "code",
      "source": [
        "import time\n",
        "trials=10"
      ],
      "metadata": {
        "id": "YNFnGNX31a09"
      },
      "execution_count": 25,
      "outputs": []
    },
    {
      "cell_type": "code",
      "source": [
        "import matplotlib.pyplot as plt"
      ],
      "metadata": {
        "id": "Q2zvHclr1zwV"
      },
      "execution_count": 26,
      "outputs": []
    },
    {
      "cell_type": "code",
      "source": [
        "want=0"
      ],
      "metadata": {
        "id": "VCCOVvKE2jos"
      },
      "execution_count": 27,
      "outputs": []
    },
    {
      "cell_type": "code",
      "source": [
        "tr2=np.array([i for i in range(trials)])\n",
        "tm2=[]"
      ],
      "metadata": {
        "id": "JBL25VAS2oCw"
      },
      "execution_count": 28,
      "outputs": []
    },
    {
      "cell_type": "code",
      "source": [
        "for i in range(trials):\n",
        "  print(\"TRIAL NO-----\",i+1)\n",
        "  net = Network()\n",
        "  net.add(FCLayer(n, 28*28,13*5,mul,matmul,want))\n",
        "  net.add(ActivationLayer(tanh, tanh_prime))\n",
        "  for i in range(3):\n",
        "    net.add(FCLayer(n,13*5, 13*5,mul,matmul,want))\n",
        "    net.add(ActivationLayer(tanh, tanh_prime))\n",
        "# net.add(FCLayer(4,5, 5,mul,1))\n",
        "# net.add(ActivationLayer(tanh, tanh_prime))\n",
        "# net.add(FCLayer(4,5, 5,mul,1))\n",
        "# net.add(ActivationLayer(tanh, tanh_prime))\n",
        "# net.add(FCLayer(4,5, 5,mul,1))\n",
        "# net.add(ActivationLayer(tanh, tanh_prime))\n",
        "  net.add(FCLayer(n,13*5, 10,mul,matmul,want))\n",
        "  net.add(ActivationLayer(tanh, tanh_prime))\n",
        "\n",
        "  net.use(mse, mse_prime)\n",
        "  st=time.time()\n",
        "  net.fit(x_train, y_train, epochs=2, learning_rate=0.1)\n",
        "  et=time.time()\n",
        "  tm2.append(et-st)\n",
        "  \n",
        "tm2=np.array(tm2)\n",
        "\n"
      ],
      "metadata": {
        "colab": {
          "base_uri": "https://localhost:8080/"
        },
        "id": "OyZz2OVSbpAX",
        "outputId": "3fcc8dea-b623-470c-f0f1-ae98f7614088"
      },
      "execution_count": 29,
      "outputs": [
        {
          "output_type": "stream",
          "name": "stdout",
          "text": [
            "TRIAL NO----- 1\n",
            "epoch 1/2   error=0.727756\n",
            "epoch 2/2   error=0.671977\n",
            "TRIAL NO----- 2\n",
            "epoch 1/2   error=0.727756\n",
            "epoch 2/2   error=0.671977\n",
            "TRIAL NO----- 3\n",
            "epoch 1/2   error=0.727756\n",
            "epoch 2/2   error=0.671977\n",
            "TRIAL NO----- 4\n",
            "epoch 1/2   error=0.727756\n",
            "epoch 2/2   error=0.671977\n",
            "TRIAL NO----- 5\n",
            "epoch 1/2   error=0.727756\n",
            "epoch 2/2   error=0.671977\n",
            "TRIAL NO----- 6\n",
            "epoch 1/2   error=0.727756\n",
            "epoch 2/2   error=0.671977\n",
            "TRIAL NO----- 7\n",
            "epoch 1/2   error=0.727756\n",
            "epoch 2/2   error=0.671977\n",
            "TRIAL NO----- 8\n",
            "epoch 1/2   error=0.727756\n",
            "epoch 2/2   error=0.671977\n",
            "TRIAL NO----- 9\n",
            "epoch 1/2   error=0.727756\n",
            "epoch 2/2   error=0.671977\n",
            "TRIAL NO----- 10\n",
            "epoch 1/2   error=0.727756\n",
            "epoch 2/2   error=0.671977\n"
          ]
        }
      ]
    },
    {
      "cell_type": "code",
      "source": [
        "plt.plot(tr,tm[:])\n",
        "plt.plot(tr,tm2[:])\n",
        "plt.legend([\"withalphatensor\", \"withoutalphatensor\"], loc =\"upper right\")\n",
        "plt.xlabel(\"trials\")\n",
        "plt.ylabel(\"time/s\")\n",
        "plt.show()\n"
      ],
      "metadata": {
        "colab": {
          "base_uri": "https://localhost:8080/",
          "height": 279
        },
        "id": "ylTh7Jsp3Hly",
        "outputId": "89afbe94-8143-4c72-c0d4-2819e57ec0d1"
      },
      "execution_count": 33,
      "outputs": [
        {
          "output_type": "display_data",
          "data": {
            "text/plain": [
              "<Figure size 432x288 with 1 Axes>"
            ],
            "image/png": "[encoded data removed]"
          },
          "metadata": {
            "needs_background": "light"
          }
        }
      ]
    },
    {
      "cell_type": "code",
      "source": [
        "print(np.mean(tm[1:]))"
      ],
      "metadata": {
        "colab": {
          "base_uri": "https://localhost:8080/"
        },
        "id": "oiSD2ex06iDd",
        "outputId": "90430792-01cd-47bd-87d5-6d37ddfd514d"
      },
      "execution_count": null,
      "outputs": [
        {
          "output_type": "stream",
          "name": "stdout",
          "text": [
            "41.283435344696045\n"
          ]
        }
      ]
    },
    {
      "cell_type": "code",
      "source": [
        "tm"
      ],
      "metadata": {
        "id": "YBZ4s_jz6iEa",
        "colab": {
          "base_uri": "https://localhost:8080/"
        },
        "outputId": "a37ea7d6-ff3a-41f1-e72e-4cbbf1aa13a1"
      },
      "execution_count": 20,
      "outputs": [
        {
          "output_type": "execute_result",
          "data": {
            "text/plain": [
              "array([82.11867833, 80.03319979, 79.41114879, 79.53239226, 79.1857996 ,\n",
              "       81.44342875, 81.51177096, 79.86340451, 79.63502455, 79.32558298])"
            ]
          },
          "metadata": {},
          "execution_count": 20
        }
      ]
    },
    {
      "cell_type": "code",
      "source": [
        "tm2"
      ],
      "metadata": {
        "id": "AYCyw7sB1vwM",
        "colab": {
          "base_uri": "https://localhost:8080/"
        },
        "outputId": "c88e1601-80eb-4911-a6bc-5c809c54d922"
      },
      "execution_count": 30,
      "outputs": [
        {
          "output_type": "execute_result",
          "data": {
            "text/plain": [
              "array([80.2021327 , 80.556844  , 80.1943953 , 82.79880786, 87.25987172,\n",
              "       81.10428095, 79.67200446, 80.5533874 , 79.6186657 , 79.6915648 ])"
            ]
          },
          "metadata": {},
          "execution_count": 30
        }
      ]
    },
    {
      "cell_type": "code",
      "source": [
        "tm"
      ],
      "metadata": {
        "colab": {
          "base_uri": "https://localhost:8080/"
        },
        "id": "ZYhbzpVXSmtU",
        "outputId": "8cbd71e9-59dc-4bd3-a6ae-e381eb92623f"
      },
      "execution_count": 31,
      "outputs": [
        {
          "output_type": "execute_result",
          "data": {
            "text/plain": [
              "array([82.11867833, 80.03319979, 79.41114879, 79.53239226, 79.1857996 ,\n",
              "       81.44342875, 81.51177096, 79.86340451, 79.63502455, 79.32558298])"
            ]
          },
          "metadata": {},
          "execution_count": 31
        }
      ]
    }
  ]
}