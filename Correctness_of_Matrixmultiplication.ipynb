{
  "nbformat": 4,
  "nbformat_minor": 0,
  "metadata": {
    "colab": {
      "provenance": []
    },
    "kernelspec": {
      "name": "python3",
      "display_name": "Python 3"
    },
    "language_info": {
      "name": "python"
    },
    "accelerator": "GPU"
  },
  "cells": [
    {
      "cell_type": "code",
      "source": [
        "import numpy as np\n",
        "import time"
      ],
      "metadata": {
        "id": "yjXVSudAYbnc"
      },
      "execution_count": 1,
      "outputs": []
    },
    {
      "cell_type": "code",
      "source": [
        "def _generate_random_matrices(matrix_dims,\n",
        "                              seed: int=42):\n",
        "  \"\"\"Generates two random NumPy matrices to be multiplied.\"\"\"\n",
        "  np.random.seed(seed)\n",
        "  a = np.random.randn(matrix_dims[0], matrix_dims[1])\n",
        "  b = np.random.randn(matrix_dims[1], matrix_dims[2])\n",
        "  return a, b\n"
      ],
      "metadata": {
        "id": "SVhlUXoEc1uw"
      },
      "execution_count": 2,
      "outputs": []
    },
    {
      "cell_type": "code",
      "source": [
        "a,b=_generate_random_matrices((4*13,5*13,5*13))"
      ],
      "metadata": {
        "id": "4pqDSMA6c1wH"
      },
      "execution_count": 18,
      "outputs": []
    },
    {
      "cell_type": "code",
      "source": [
        "a.shape"
      ],
      "metadata": {
        "colab": {
          "base_uri": "https://localhost:8080/"
        },
        "id": "AfUFz_5ptv_b",
        "outputId": "d1ee2def-4faa-491e-97ac-74d2bd9cc2ab"
      },
      "execution_count": 19,
      "outputs": [
        {
          "output_type": "execute_result",
          "data": {
            "text/plain": [
              "(52, 65)"
            ]
          },
          "metadata": {},
          "execution_count": 19
        }
      ]
    },
    {
      "cell_type": "code",
      "source": [
        "b.shape"
      ],
      "metadata": {
        "colab": {
          "base_uri": "https://localhost:8080/"
        },
        "id": "wohkjiDGC4s1",
        "outputId": "ec8e881d-d7cf-4bd0-928d-c074f00edf0c"
      },
      "execution_count": 20,
      "outputs": [
        {
          "output_type": "execute_result",
          "data": {
            "text/plain": [
              "(65, 65)"
            ]
          },
          "metadata": {},
          "execution_count": 20
        }
      ]
    },
    {
      "cell_type": "code",
      "source": [
        "def matmul(A,B):\n",
        "  result=[[0 for i in range(B.shape[1])] for j in range(A.shape[0])]\n",
        "  for i in range(len(A)):\n",
        "    for j in range(len(B[0])):\n",
        "        for k in range(len(B)):\n",
        "          result[i][j] += A[i][k] * B[k][j]\n",
        "  return np.array(result)"
      ],
      "metadata": {
        "id": "tqmpVHOUwD-J"
      },
      "execution_count": 21,
      "outputs": []
    },
    {
      "cell_type": "code",
      "source": [
        "class mult:\n",
        "  def __init__(self):\n",
        "    filename = \"/content/factorizations_r.npz\"\n",
        "    with open(filename, 'rb') as f:\n",
        "      self.factorizations = dict(np.load(f, allow_pickle=True))\n",
        "  def check(self,tup):\n",
        "    far=None\n",
        "    for v in self.factorizations:\n",
        "      ar=list(map(int,v.split(\",\")))\n",
        "      if tup[0]%ar[0]==0 and tup[1]%ar[1]==0 and tup[2]%ar[2]==0 :\n",
        "        far=ar\n",
        "    if far!=None:\n",
        "      return True,far\n",
        "    return False,None\n",
        "  def comb(self,a):\n",
        "    res=[]\n",
        "    for i in range(a.shape[0]):\n",
        "      ar=np.array(a[i][0])\n",
        "      for j in range(1,a.shape[1]):\n",
        "        ar=np.concatenate((ar,a[i][j]),axis=1)\n",
        "      res.append(ar)\n",
        "    nar=res[0]\n",
        "    for i in range(1,len(res)):\n",
        "      nar=np.concatenate((nar,res[i]),axis=0)\n",
        "    return nar\n",
        "  def crop(self,a,n):\n",
        "    i=0\n",
        "    j=0\n",
        "    res=[[None for k in range(a.shape[1]//n)] for g in range(a.shape[0]//n)]\n",
        "    x=0\n",
        "    y=0\n",
        "  # print(len(res),len(res[0]))\n",
        "  #print(x,y,res[0][0],a.shape)\n",
        "    while(i<a.shape[0]):\n",
        "    # print(i,j,x,y)\n",
        "       while(j<a.shape[1]):\n",
        "         res[x][y]=a[i:i+n,j:j+n]\n",
        "         j+=n\n",
        "         y+=1\n",
        "       x+=1\n",
        "       i+=n\n",
        "       j=0\n",
        "       y=0\n",
        "    \n",
        "    return np.array(res)    \n",
        "  def aft2(self,a,b,seq,f) :\n",
        "    n=a.shape[0]//seq[0]\n",
        "    val=str(seq[0])+\",\"+str(seq[1])+\",\"+str(seq[2])\n",
        "    factors=self.factorizations[val]\n",
        "    factors = [factors[0], factors[1], factors[2]]\n",
        "    rank = factors[0].shape[-1]\n",
        "    factors[2] = np.reshape(factors[2],(seq[2], seq[0], rank))\n",
        "    factors[2] = factors[2].transpose(1, 0, 2).reshape(seq[2]*seq[0],rank)\n",
        "    a=self.crop(a,n)\n",
        "    b=self.crop(b,n)\n",
        "    \n",
        "    a=np.reshape(a,(a.shape[0]*a.shape[1],n,n))\n",
        "    b=np.reshape(b,(b.shape[0]*b.shape[1],n,n))\n",
        "\n",
        "    st=time.time()\n",
        "    left=np.einsum('iR,i...->R...', factors[0], a)\n",
        "    right=np.einsum('iR,i...->R...', factors[1], b)\n",
        "    mp=np.einsum('R...,R...->R...', left, right)\n",
        "    mp=np.array([f(left[i],right[i] )for i in range(len(left))])\n",
        "    res=np.einsum('iR,R...->i...', factors[2], mp)\n",
        "    en=time.time()\n",
        "    res=np.reshape(res,(seq[0],seq[2],n,n))\n",
        "    print(en-st)\n",
        "    # print(res.shape)\n",
        "    return self.comb(res)\n",
        "    \n",
        "    \n",
        "  \n",
        "  "
      ],
      "metadata": {
        "id": "8F0d7Ne0d0OD"
      },
      "execution_count": 22,
      "outputs": []
    },
    {
      "cell_type": "code",
      "source": [
        "mul=mult()"
      ],
      "metadata": {
        "id": "FYpJCH-qeHxs"
      },
      "execution_count": 23,
      "outputs": []
    },
    {
      "cell_type": "code",
      "source": [
        "val,seq=mul.check([a.shape[0],a.shape[1],b.shape[1]])"
      ],
      "metadata": {
        "id": "ZXcKVWt2eME0"
      },
      "execution_count": 24,
      "outputs": []
    },
    {
      "cell_type": "code",
      "source": [
        "seq"
      ],
      "metadata": {
        "colab": {
          "base_uri": "https://localhost:8080/"
        },
        "id": "cznVMQfJBxXv",
        "outputId": "f4d05302-f180-411b-b881-a81745959b4c"
      },
      "execution_count": 25,
      "outputs": [
        {
          "output_type": "execute_result",
          "data": {
            "text/plain": [
              "[4, 5, 5]"
            ]
          },
          "metadata": {},
          "execution_count": 25
        }
      ]
    },
    {
      "cell_type": "code",
      "source": [
        "st=time.time()\n",
        "c=mul.aft2(a,b,[4,5,5],matmul)\n",
        "en=time.time()\n",
        "print(en-st)"
      ],
      "metadata": {
        "id": "OqbSF4GFg-FP",
        "colab": {
          "base_uri": "https://localhost:8080/"
        },
        "outputId": "c35650fb-e07c-4769-ea13-c0f3e3b377a8"
      },
      "execution_count": 26,
      "outputs": [
        {
          "output_type": "stream",
          "name": "stdout",
          "text": [
            "0.10695743560791016\n",
            "0.10853838920593262\n"
          ]
        }
      ]
    },
    {
      "cell_type": "code",
      "source": [
        "st=time.time()\n",
        "c1=matmul(a,b)\n",
        "en=time.time()\n",
        "print(en-st)"
      ],
      "metadata": {
        "id": "Oba4XyA8kRaT",
        "colab": {
          "base_uri": "https://localhost:8080/"
        },
        "outputId": "af411782-823f-483d-de0a-351ed99fb9ee"
      },
      "execution_count": 27,
      "outputs": [
        {
          "output_type": "stream",
          "name": "stdout",
          "text": [
            "0.12349486351013184\n"
          ]
        }
      ]
    },
    {
      "cell_type": "code",
      "source": [
        "np.isclose(c,c1)"
      ],
      "metadata": {
        "colab": {
          "base_uri": "https://localhost:8080/"
        },
        "id": "opkNeimlkYDi",
        "outputId": "86795aa4-9958-4ad1-e9b2-761b553d4835"
      },
      "execution_count": 28,
      "outputs": [
        {
          "output_type": "execute_result",
          "data": {
            "text/plain": [
              "array([[ True,  True,  True, ...,  True,  True,  True],\n",
              "       [ True,  True,  True, ...,  True,  True,  True],\n",
              "       [ True,  True,  True, ...,  True,  True,  True],\n",
              "       ...,\n",
              "       [ True,  True,  True, ...,  True,  True,  True],\n",
              "       [ True,  True,  True, ...,  True,  True,  True],\n",
              "       [ True,  True,  True, ...,  True,  True,  True]])"
            ]
          },
          "metadata": {},
          "execution_count": 28
        }
      ]
    }
  ]
}